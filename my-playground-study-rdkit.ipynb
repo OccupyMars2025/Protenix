{
  "nbformat": 4,
  "nbformat_minor": 0,
  "metadata": {
    "colab": {
      "provenance": [],
      "authorship_tag": "ABX9TyNhb0yp65lFeSXn8bcXbLyB",
      "include_colab_link": true
    },
    "kernelspec": {
      "name": "python3",
      "display_name": "Python 3"
    },
    "language_info": {
      "name": "python"
    }
  },
  "cells": [
    {
      "cell_type": "markdown",
      "metadata": {
        "id": "view-in-github",
        "colab_type": "text"
      },
      "source": [
        "<a href=\"https://colab.research.google.com/github/OccupyMars2025/Protenix/blob/my-playground/my-playground-study-rdkit.ipynb\" target=\"_parent\"><img src=\"https://colab.research.google.com/assets/colab-badge.svg\" alt=\"Open In Colab\"/></a>"
      ]
    },
    {
      "cell_type": "markdown",
      "source": [
        "## All the code comes from https://www.rdkit.org/docs/GettingStartedInPython.html"
      ],
      "metadata": {
        "id": "7r_WD2bg368h"
      }
    },
    {
      "cell_type": "code",
      "source": [
        "!pip install rdkit\n"
      ],
      "metadata": {
        "colab": {
          "base_uri": "https://localhost:8080/"
        },
        "id": "5DKRULpb0qH7",
        "outputId": "655a399c-82a5-45fe-a430-566940acd498"
      },
      "execution_count": 1,
      "outputs": [
        {
          "output_type": "stream",
          "name": "stdout",
          "text": [
            "Requirement already satisfied: rdkit in /usr/local/lib/python3.11/dist-packages (2025.3.3)\n",
            "Requirement already satisfied: numpy in /usr/local/lib/python3.11/dist-packages (from rdkit) (2.0.2)\n",
            "Requirement already satisfied: Pillow in /usr/local/lib/python3.11/dist-packages (from rdkit) (11.2.1)\n"
          ]
        }
      ]
    },
    {
      "cell_type": "code",
      "execution_count": 2,
      "metadata": {
        "id": "snBTTG4q0Nls"
      },
      "outputs": [],
      "source": [
        "from rdkit import Chem"
      ]
    },
    {
      "cell_type": "code",
      "source": [
        "# Individual molecules can be constructed using a variety of approaches:\n",
        "\n",
        "m = Chem.MolFromSmiles('Cc1ccccc1')\n",
        "# m = Chem.MolFromMolFile('data/input.mol')\n",
        "# stringWithMolData=open('data/input.mol','r').read()\n",
        "# m = Chem.MolFromMolBlock(stringWithMolData)"
      ],
      "metadata": {
        "id": "z09O7g3v0Q34"
      },
      "execution_count": 3,
      "outputs": []
    },
    {
      "cell_type": "code",
      "source": [
        "m"
      ],
      "metadata": {
        "colab": {
          "base_uri": "https://localhost:8080/",
          "height": 167
        },
        "id": "weQlHsod16Ag",
        "outputId": "37f4fc66-3d54-4db2-930f-de853b87d680"
      },
      "execution_count": 4,
      "outputs": [
        {
          "output_type": "execute_result",
          "data": {
            "text/plain": [
              "<rdkit.Chem.rdchem.Mol at 0x7a94f3e06f80>"
            ],
            "image/png": "[encoded data removed]"
          },
          "metadata": {},
          "execution_count": 4
        }
      ]
    },
    {
      "cell_type": "code",
      "source": [
        "# m_invalid = Chem.MolFromMolFile('data/invalid.mol')\n",
        "# m_invalid is None"
      ],
      "metadata": {
        "colab": {
          "base_uri": "https://localhost:8080/",
          "height": 141
        },
        "id": "1nm-JLqO17Qq",
        "outputId": "e4f4d7eb-6589-42ab-95ff-07de4a77da65"
      },
      "execution_count": 6,
      "outputs": [
        {
          "output_type": "error",
          "ename": "OSError",
          "evalue": "Bad input file data/invalid.mol",
          "traceback": [
            "\u001b[0;31m---------------------------------------------------------------------------\u001b[0m",
            "\u001b[0;31mOSError\u001b[0m                                   Traceback (most recent call last)",
            "\u001b[0;32m/tmp/ipython-input-6-1026661814.py\u001b[0m in \u001b[0;36m<cell line: 0>\u001b[0;34m()\u001b[0m\n\u001b[0;32m----> 1\u001b[0;31m \u001b[0mm_invalid\u001b[0m \u001b[0;34m=\u001b[0m \u001b[0mChem\u001b[0m\u001b[0;34m.\u001b[0m\u001b[0mMolFromMolFile\u001b[0m\u001b[0;34m(\u001b[0m\u001b[0;34m'data/invalid.mol'\u001b[0m\u001b[0;34m)\u001b[0m\u001b[0;34m\u001b[0m\u001b[0;34m\u001b[0m\u001b[0m\n\u001b[0m",
            "\u001b[0;31mOSError\u001b[0m: Bad input file data/invalid.mol"
          ]
        }
      ]
    },
    {
      "cell_type": "code",
      "source": [
        "from rdkit.Chem import Draw\n",
        "img = Draw.MolToImage(m)"
      ],
      "metadata": {
        "id": "tTHCkcLE2PB3"
      },
      "execution_count": 7,
      "outputs": []
    },
    {
      "cell_type": "code",
      "source": [
        "img"
      ],
      "metadata": {
        "colab": {
          "base_uri": "https://localhost:8080/",
          "height": 317
        },
        "id": "8V3b5QHk2gYi",
        "outputId": "cf3e3f6b-407d-466e-fb86-050ba729dcac"
      },
      "execution_count": 8,
      "outputs": [
        {
          "output_type": "execute_result",
          "data": {
            "text/plain": [
              "<PIL.PngImagePlugin.PngImageFile image mode=RGB size=300x300>"
            ],
            "image/png": "[encoded data removed]",
            "image/jpeg": "[encoded data removed]"
          },
          "metadata": {},
          "execution_count": 8
        }
      ]
    },
    {
      "cell_type": "code",
      "source": [
        "m1 = Chem.MolFromSmiles('CO(C)C')\n"
      ],
      "metadata": {
        "colab": {
          "base_uri": "https://localhost:8080/"
        },
        "id": "rrGf-HgB2h_q",
        "outputId": "67ebe552-31fa-46a6-a8cb-e1c7b11eee1e"
      },
      "execution_count": 9,
      "outputs": [
        {
          "output_type": "stream",
          "name": "stderr",
          "text": [
            "[13:25:40] Explicit valence for atom # 1 O, 3, is greater than permitted\n"
          ]
        }
      ]
    },
    {
      "cell_type": "code",
      "source": [
        "m2 = Chem.MolFromSmiles('c1cc1')"
      ],
      "metadata": {
        "colab": {
          "base_uri": "https://localhost:8080/"
        },
        "id": "pPAY4nFU3W8q",
        "outputId": "673fac44-c715-411c-d49c-d6d0283d20bb"
      },
      "execution_count": 10,
      "outputs": [
        {
          "output_type": "stream",
          "name": "stderr",
          "text": [
            "[13:26:08] Can't kekulize mol.  Unkekulized atoms: 0 1 2\n"
          ]
        }
      ]
    },
    {
      "cell_type": "code",
      "source": [
        "m1 is None"
      ],
      "metadata": {
        "colab": {
          "base_uri": "https://localhost:8080/"
        },
        "id": "mXLTfvKN3drV",
        "outputId": "ba83768d-f4aa-497a-b1a2-1ccd09001b40"
      },
      "execution_count": 11,
      "outputs": [
        {
          "output_type": "execute_result",
          "data": {
            "text/plain": [
              "True"
            ]
          },
          "metadata": {},
          "execution_count": 11
        }
      ]
    },
    {
      "cell_type": "code",
      "source": [
        "m2 is None"
      ],
      "metadata": {
        "colab": {
          "base_uri": "https://localhost:8080/"
        },
        "id": "SMpge2Pg3lFp",
        "outputId": "20e3b638-ccbd-4c24-808a-b7be03638207"
      },
      "execution_count": 12,
      "outputs": [
        {
          "output_type": "execute_result",
          "data": {
            "text/plain": [
              "True"
            ]
          },
          "metadata": {},
          "execution_count": 12
        }
      ]
    },
    {
      "cell_type": "code",
      "source": [
        "!git clone https://github.com/rdkit/rdkit.git"
      ],
      "metadata": {
        "colab": {
          "base_uri": "https://localhost:8080/"
        },
        "id": "P2fKAMa746Ix",
        "outputId": "7d0598f6-6789-4653-d476-2cb1e92d6510"
      },
      "execution_count": 14,
      "outputs": [
        {
          "output_type": "stream",
          "name": "stdout",
          "text": [
            "Cloning into 'rdkit'...\n",
            "remote: Enumerating objects: 97375, done.\u001b[K\n",
            "remote: Counting objects: 100% (253/253), done.\u001b[K\n",
            "remote: Compressing objects: 100% (134/134), done.\u001b[K\n",
            "remote: Total 97375 (delta 179), reused 123 (delta 119), pack-reused 97122 (from 3)\u001b[K\n",
            "Receiving objects: 100% (97375/97375), 206.83 MiB | 22.05 MiB/s, done.\n",
            "Resolving deltas: 100% (75362/75362), done.\n",
            "Updating files: 100% (5905/5905), done.\n"
          ]
        }
      ]
    },
    {
      "cell_type": "code",
      "source": [
        "import os\n",
        "os.chdir(\"rdkit/Docs/Book/\") # some needed data files are in this folder"
      ],
      "metadata": {
        "id": "N3K_QGxH5ELs"
      },
      "execution_count": 15,
      "outputs": []
    },
    {
      "cell_type": "code",
      "source": [
        "!pwd"
      ],
      "metadata": {
        "colab": {
          "base_uri": "https://localhost:8080/"
        },
        "id": "Lq4gIp935KRc",
        "outputId": "23f4466a-ef8d-4cfe-95e8-c6df3c200a02"
      },
      "execution_count": 16,
      "outputs": [
        {
          "output_type": "stream",
          "name": "stdout",
          "text": [
            "/content/rdkit/Docs/Book\n"
          ]
        }
      ]
    },
    {
      "cell_type": "code",
      "source": [
        "!ls -l"
      ],
      "metadata": {
        "colab": {
          "base_uri": "https://localhost:8080/"
        },
        "id": "N9yGEA7H5MOj",
        "outputId": "c0b3b30f-e945-4fa5-f95b-b734b27b18f7"
      },
      "execution_count": 17,
      "outputs": [
        {
          "output_type": "stream",
          "name": "stdout",
          "text": [
            "total 628\n",
            "-rw-r--r-- 1 root root     72 Jun 29 13:33 api-docs.rst\n",
            "-rw-r--r-- 1 root root  13004 Jun 29 13:33 BackwardsIncompatibleChanges.md\n",
            "-rw-r--r-- 1 root root  46428 Jun 29 13:33 Cartridge.md\n",
            "drwxr-xr-x 2 root root   4096 Jun 29 13:33 C++Examples\n",
            "-rw-r--r-- 1 root root   7543 Jun 29 13:33 conf.py\n",
            "-rw-r--r-- 1 root root  76151 Jun 29 13:33 Cookbook.rst\n",
            "drwxr-xr-x 2 root root   4096 Jun 29 13:33 data\n",
            "drwxr-xr-x 2 root root   4096 Jun 29 13:33 exts\n",
            "-rw-r--r-- 1 root root  59040 Jun 29 13:33 GettingStartedInC++.md\n",
            "-rw-r--r-- 1 root root 167232 Jun 29 13:33 GettingStartedInPython.rst\n",
            "-rw-r--r-- 1 root root  32771 Jun 29 13:33 GettingStartedWithContributing.md\n",
            "drwxr-xr-x 2 root root  12288 Jun 29 13:33 images\n",
            "-rw-r--r-- 1 root root    662 Jun 29 13:33 index.rst\n",
            "-rw-r--r-- 1 root root  23228 Jun 29 13:33 Install.md\n",
            "-rw-r--r-- 1 root root   5188 Jun 29 13:33 Makefile\n",
            "-rw-r--r-- 1 root root   7193 Jun 29 13:33 Overview.md\n",
            "-rw-r--r-- 1 root root 130874 Jun 29 13:33 RDKit_Book.rst\n",
            "drwxr-xr-x 2 root root  20480 Jun 29 13:33 source\n"
          ]
        }
      ]
    },
    {
      "cell_type": "code",
      "source": [
        "suppl = Chem.SDMolSupplier('data/5ht3ligs.sdf')\n",
        "for mol in suppl:\n",
        "  print(mol.GetNumAtoms())"
      ],
      "metadata": {
        "colab": {
          "base_uri": "https://localhost:8080/"
        },
        "id": "zqonCyzv3nel",
        "outputId": "97a0cab7-4931-4f40-e40e-0356172a5ba3"
      },
      "execution_count": 18,
      "outputs": [
        {
          "output_type": "stream",
          "name": "stdout",
          "text": [
            "20\n",
            "24\n",
            "24\n",
            "26\n"
          ]
        }
      ]
    },
    {
      "cell_type": "code",
      "source": [
        "mols = [x for x in suppl]\n",
        "len(mols)"
      ],
      "metadata": {
        "colab": {
          "base_uri": "https://localhost:8080/"
        },
        "id": "GrIIJI8j4N7e",
        "outputId": "a5c457ca-e82e-43ea-c644-85759b3c4b4a"
      },
      "execution_count": 19,
      "outputs": [
        {
          "output_type": "execute_result",
          "data": {
            "text/plain": [
              "4"
            ]
          },
          "metadata": {},
          "execution_count": 19
        }
      ]
    },
    {
      "cell_type": "code",
      "source": [
        "mols"
      ],
      "metadata": {
        "colab": {
          "base_uri": "https://localhost:8080/"
        },
        "id": "87KphJYN6Zwg",
        "outputId": "d01433b0-e2e5-4461-8677-146fb2f87733"
      },
      "execution_count": 20,
      "outputs": [
        {
          "output_type": "execute_result",
          "data": {
            "text/plain": [
              "[<rdkit.Chem.rdchem.Mol at 0x7a94f0342810>,\n",
              " <rdkit.Chem.rdchem.Mol at 0x7a94f03120a0>,\n",
              " <rdkit.Chem.rdchem.Mol at 0x7a94f0312030>,\n",
              " <rdkit.Chem.rdchem.Mol at 0x7a94f0312110>]"
            ]
          },
          "metadata": {},
          "execution_count": 20
        }
      ]
    },
    {
      "cell_type": "code",
      "source": [
        "mols[0]"
      ],
      "metadata": {
        "colab": {
          "base_uri": "https://localhost:8080/",
          "height": 167
        },
        "id": "2syZNf5T6bGj",
        "outputId": "00665dc6-36bc-442a-b815-fcd56521b417"
      },
      "execution_count": 21,
      "outputs": [
        {
          "output_type": "execute_result",
          "data": {
            "text/plain": [
              "<rdkit.Chem.rdchem.Mol at 0x7a94f0342810>"
            ],
            "image/png": "[encoded data removed]"
          },
          "metadata": {},
          "execution_count": 21
        }
      ]
    },
    {
      "cell_type": "code",
      "source": [
        "mols[1]"
      ],
      "metadata": {
        "colab": {
          "base_uri": "https://localhost:8080/",
          "height": 167
        },
        "id": "VX07xJ2o7oMK",
        "outputId": "cdeadcb9-013b-44cc-a727-a553fa15670a"
      },
      "execution_count": 22,
      "outputs": [
        {
          "output_type": "execute_result",
          "data": {
            "text/plain": [
              "<rdkit.Chem.rdchem.Mol at 0x7a94f03120a0>"
            ],
            "image/png": "[encoded data removed]"
          },
          "metadata": {},
          "execution_count": 22
        }
      ]
    },
    {
      "cell_type": "code",
      "source": [
        "mols[2]"
      ],
      "metadata": {
        "colab": {
          "base_uri": "https://localhost:8080/",
          "height": 167
        },
        "id": "DvK4gjrE7qZn",
        "outputId": "3d2a1b2a-d9dd-44ac-f6ad-bd7c3be067f8"
      },
      "execution_count": 23,
      "outputs": [
        {
          "output_type": "execute_result",
          "data": {
            "text/plain": [
              "<rdkit.Chem.rdchem.Mol at 0x7a94f0312030>"
            ],
            "image/png": "[encoded data removed]"
          },
          "metadata": {},
          "execution_count": 23
        }
      ]
    },
    {
      "cell_type": "code",
      "source": [
        "mols[3]"
      ],
      "metadata": {
        "colab": {
          "base_uri": "https://localhost:8080/",
          "height": 167
        },
        "id": "nzffTsPv7tWG",
        "outputId": "4a19285e-5667-458a-e06c-5059e6796a62"
      },
      "execution_count": 24,
      "outputs": [
        {
          "output_type": "execute_result",
          "data": {
            "text/plain": [
              "<rdkit.Chem.rdchem.Mol at 0x7a94f0312110>"
            ],
            "image/png": "[encoded data removed]"
          },
          "metadata": {},
          "execution_count": 24
        }
      ]
    },
    {
      "cell_type": "code",
      "source": [
        "suppl[0].GetNumAtoms()"
      ],
      "metadata": {
        "colab": {
          "base_uri": "https://localhost:8080/"
        },
        "id": "sz8w3PT97u1j",
        "outputId": "4bc8bc38-ffe7-49b7-d5e6-59719c009d7c"
      },
      "execution_count": 25,
      "outputs": [
        {
          "output_type": "execute_result",
          "data": {
            "text/plain": [
              "20"
            ]
          },
          "metadata": {},
          "execution_count": 25
        }
      ]
    },
    {
      "cell_type": "code",
      "source": [
        "with Chem.SDMolSupplier('data/5ht3ligs.sdf') as suppl:\n",
        "  for mol in suppl:\n",
        "    if mol is None: continue\n",
        "    print(mol.GetNumAtoms())"
      ],
      "metadata": {
        "colab": {
          "base_uri": "https://localhost:8080/"
        },
        "id": "ziUmpSjb71Ib",
        "outputId": "1ea070db-b799-4fb5-f9d7-29d5e3eef4c5"
      },
      "execution_count": 26,
      "outputs": [
        {
          "output_type": "stream",
          "name": "stdout",
          "text": [
            "20\n",
            "24\n",
            "24\n",
            "26\n"
          ]
        }
      ]
    },
    {
      "cell_type": "code",
      "source": [
        "inf = open('data/5ht3ligs.sdf','rb')\n",
        "with Chem.ForwardSDMolSupplier(inf) as fsuppl:\n",
        "  for mol in fsuppl:\n",
        "    if mol is None: continue\n",
        "    print(mol.GetNumAtoms())"
      ],
      "metadata": {
        "colab": {
          "base_uri": "https://localhost:8080/"
        },
        "id": "xDE7MtHv75bi",
        "outputId": "4f08742a-38d3-4e29-c958-d3b9b6965b40"
      },
      "execution_count": 27,
      "outputs": [
        {
          "output_type": "stream",
          "name": "stdout",
          "text": [
            "20\n",
            "24\n",
            "24\n",
            "26\n"
          ]
        }
      ]
    },
    {
      "cell_type": "code",
      "source": [
        "import gzip\n",
        "inf = gzip.open('data/actives_5ht3.sdf.gz')\n",
        "with Chem.ForwardSDMolSupplier(inf) as gzsuppl:\n",
        "   ms = [x for x in gzsuppl if x is not None]\n",
        "len(ms)"
      ],
      "metadata": {
        "colab": {
          "base_uri": "https://localhost:8080/"
        },
        "id": "B1M_3-sm8loH",
        "outputId": "a10e0ae6-eefb-41d3-8479-f52b0608826f"
      },
      "execution_count": 28,
      "outputs": [
        {
          "output_type": "execute_result",
          "data": {
            "text/plain": [
              "180"
            ]
          },
          "metadata": {},
          "execution_count": 28
        }
      ]
    },
    {
      "cell_type": "code",
      "source": [
        "!ls -lh data/"
      ],
      "metadata": {
        "colab": {
          "base_uri": "https://localhost:8080/"
        },
        "id": "dv-X8O2F9KHW",
        "outputId": "926f0b93-42c8-4353-c7d7-afc646f84591"
      },
      "execution_count": 29,
      "outputs": [
        {
          "output_type": "stream",
          "name": "stdout",
          "text": [
            "total 2.4M\n",
            "-rw-r--r-- 1 root root 9.4K Jun 29 13:33 5ht3ligs.sdf\n",
            "-rw-r--r-- 1 root root 239K Jun 29 13:33 actives_5ht3.sdf\n",
            "-rw-r--r-- 1 root root  36K Jun 29 13:33 actives_5ht3.sdf.gz\n",
            "-rw-r--r-- 1 root root  851 Jun 29 13:33 AmideBond.rxn\n",
            "-rw-r--r-- 1 root root 316K Jun 29 13:33 bzr.sdf\n",
            "-rw-r--r-- 1 root root  523 Jun 29 13:33 bzr.smi\n",
            "-rw-r--r-- 1 root root 157K Jun 29 13:33 cdk2.sdf\n",
            "-rw-r--r-- 1 root root  910 Jun 29 13:33 chiral.mol\n",
            "-rw-r--r-- 1 root root 7.2K Jun 29 13:33 CrossLink.mol\n",
            "-rw-r--r-- 1 root root  13K Jun 29 13:33 DnaTest3.mol\n",
            "-rw-r--r-- 1 root root 1.0K Jun 29 13:33 input.mol\n",
            "-rw-r--r-- 1 root root 1.2K Jun 29 13:33 invalid.mol\n",
            "-rw-r--r-- 1 root root 1.7K Jun 29 13:33 MinimalFeatures.fdef\n",
            "-rw-r--r-- 1 root root  893 Jun 29 13:33 README.md\n",
            "-rw-r--r-- 1 root root 4.3K Jun 29 13:33 s1p_chembldoc89753.txt\n",
            "-rw-r--r-- 1 root root 240K Jun 29 13:33 solubility.test.sdf\n",
            "-rw-r--r-- 1 root root 1.4M Jun 29 13:33 solubility.train.sdf\n",
            "-rw-r--r-- 1 root root 1.8K Jun 29 13:33 test_multi_colours.py\n"
          ]
        }
      ]
    },
    {
      "cell_type": "code",
      "source": [],
      "metadata": {
        "id": "pvUXapQQ9XHZ"
      },
      "execution_count": null,
      "outputs": []
    }
  ]
}